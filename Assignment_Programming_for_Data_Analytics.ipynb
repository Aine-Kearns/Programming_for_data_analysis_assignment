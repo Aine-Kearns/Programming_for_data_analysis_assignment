{
 "cells": [
  {
   "cell_type": "markdown",
   "metadata": {},
   "source": [
    "# Assignment for Programming for Data Analysis Due 22nd of November 2020\n",
    "\n",
    "This assignment includes the following tasks:\n",
    "1. Explanation of the overall purpose of numpy.random package in Python\n",
    "2. Explanation of the use of the \"Simple random data\" and \"Permutations\" functions\n",
    "3. Explanation of the use and purpose of at least five \"Distributions\" functions\n",
    "4. Explanation of the use of seeds in generating pseudorandom numbers\n",
    "\n",
    "The following references are used in this assignment <br>\n",
    "[1] https://numpy.org/ <br>\n",
    "[2] https://mathworld.wolfram.com/UniformDistribution.html <br>\n",
    "[3] https://www.w3schools.com/python/numpy_random_permutation.asp <br>\n",
    "[4] https://www.isrctn.com/editorial/retrieveFile/5cddbcff-b1f2-48a6-9ecd-2187e98adb60/36906 <br>\n",
    "[5] Abbott, M.L (2016) Using Statistics in the Social and Health Sciences with SPSS and Excel. Wiley Publishers. <br>\n",
    "[6] https://en.wikipedia.org/wiki/Binomial_distribution <br>\n",
    "[7] Kay, J., Coltheart, M., & Lesser, R. (1992). Psycholinguistic Assessments of Language Processing in\n",
    "Aphasia,(PALPA): Auditory Processing. Lawrence Erlbaum Associates.<br>\n",
    "[8] https://stackoverflow.com/questions/32899463/how-can-i-overlay-two-graphs-in-seaborn <br>\n",
    "[9] https://www.pcg-random.org/ <br>\n",
    "[10] https://www.sharpsightlabs.com/blog/numpy-random-seed/#:~:text=NumPy%20random%20seed%20is%20simply,random%20numbers%20for%20random%20processes."
   ]
  },
  {
   "cell_type": "markdown",
   "metadata": {},
   "source": [
    "## Purpose of numpy.random package and use of simple random data \n",
    "The numpy.random package allows the user to produce pseudorandom numbers.  In order to do this the package uses a BitGenerator which creates sequences and a Generator that uses the sequences created by the BitGenerator to sample from different statistical distributions [1].   "
   ]
  },
  {
   "cell_type": "code",
   "execution_count": 1,
   "metadata": {},
   "outputs": [],
   "source": [
    "import numpy as np\n",
    "rng = np.random.default_rng()\n",
    "# using default_rng() will get a new instance of a Generator with the default BitGenerator (PCG64). \n",
    "# it is then possible to call this Generator method to get samples from different distributions [1]. "
   ]
  },
  {
   "cell_type": "code",
   "execution_count": 2,
   "metadata": {},
   "outputs": [
    {
     "data": {
      "text/plain": [
       "array([2, 2, 1, 0, 2, 0, 1, 2, 2, 2, 2, 0, 0, 2, 2], dtype=int64)"
      ]
     },
     "execution_count": 2,
     "metadata": {},
     "output_type": "execute_result"
    }
   ],
   "source": [
    "rng.integers(3, size=15)\n",
    "# this will return 15 random integers from 0 up to but not inclusive of 3 "
   ]
  },
  {
   "cell_type": "markdown",
   "metadata": {},
   "source": [
    "dtype is a data type object and it describes how the bytes in the fixed-size block of memory corresponding to an array item should be interpreted. The default value is np.int64. as seen above"
   ]
  },
  {
   "cell_type": "code",
   "execution_count": 3,
   "metadata": {},
   "outputs": [
    {
     "data": {
      "text/plain": [
       "array([[3, 1, 3, 3],\n",
       "       [0, 2, 3, 1]], dtype=int64)"
      ]
     },
     "execution_count": 3,
     "metadata": {},
     "output_type": "execute_result"
    }
   ],
   "source": [
    "rng.integers(5, size=(2, 4))\n",
    "# generate a 2 x 4 array "
   ]
  },
  {
   "cell_type": "code",
   "execution_count": 4,
   "metadata": {},
   "outputs": [
    {
     "data": {
      "text/plain": [
       "array([2, 9, 1], dtype=int64)"
      ]
     },
     "execution_count": 4,
     "metadata": {},
     "output_type": "execute_result"
    }
   ],
   "source": [
    "rng.integers(0, [3, 20, 10])\n",
    "# generate numbers with a lower bound of 0 and an three different upper bounds"
   ]
  },
  {
   "cell_type": "code",
   "execution_count": 5,
   "metadata": {},
   "outputs": [
    {
     "data": {
      "text/plain": [
       "array([[ 2, 11,  3,  8],\n",
       "       [ 1,  4,  5, 17]], dtype=int64)"
      ]
     },
     "execution_count": 5,
     "metadata": {},
     "output_type": "execute_result"
    }
   ],
   "source": [
    "rng.integers(1, [5, 15, 10, 20], size=(2, 4))\n",
    "# generate a 2 x 4 array with lower bound of 1 and four different upper bounds"
   ]
  },
  {
   "cell_type": "code",
   "execution_count": 6,
   "metadata": {},
   "outputs": [
    {
     "data": {
      "text/plain": [
       "array([50, 29,  7, ..., 69, 97, 87], dtype=int64)"
      ]
     },
     "execution_count": 6,
     "metadata": {},
     "output_type": "execute_result"
    }
   ],
   "source": [
    "x = rng.integers(100, size=100000)\n",
    "# x is an array of 100000 numbers between 0 and up to but not including 100\n",
    "x"
   ]
  },
  {
   "cell_type": "code",
   "execution_count": 7,
   "metadata": {},
   "outputs": [],
   "source": [
    "import matplotlib.pyplot as plt\n",
    "# library to create visualisations in Python including histograms"
   ]
  },
  {
   "cell_type": "code",
   "execution_count": 8,
   "metadata": {},
   "outputs": [
    {
     "data": {
      "text/plain": [
       "(array([ 9999.,  9985.,  9984., 10113.,  9992., 10011.,  9999.,  9956.,\n",
       "         9909., 10052.]),\n",
       " array([ 0. ,  9.9, 19.8, 29.7, 39.6, 49.5, 59.4, 69.3, 79.2, 89.1, 99. ]),\n",
       " <BarContainer object of 10 artists>)"
      ]
     },
     "execution_count": 8,
     "metadata": {},
     "output_type": "execute_result"
    },
    {
     "data": {
      "image/png": "[encoded data removed]",
      "text/plain": [
       "<Figure size 432x288 with 1 Axes>"
      ]
     },
     "metadata": {
      "needs_background": "light"
     },
     "output_type": "display_data"
    }
   ],
   "source": [
    "plt.hist(x)\n",
    "# display a histogram of x"
   ]
  },
  {
   "cell_type": "markdown",
   "metadata": {},
   "source": [
    "The distribution above represents a uniform distribution.  If we changed the size to 10 million in Line 6 above we would definitely see a clear retangular distribution with a straight line on top of the retangle and that indicates a distribution that has constant probability [2].\n",
    "***"
   ]
  },
  {
   "cell_type": "markdown",
   "metadata": {},
   "source": [
    "Above is an example of simple random data function that returns random integers from low (inclusive) to high (exclusive) [1] with a uniform distribution. It is also possible to use simple random data functions to generate a random sample from a given 1-D array. "
   ]
  },
  {
   "cell_type": "code",
   "execution_count": 9,
   "metadata": {},
   "outputs": [],
   "source": [
    "y = rng.choice(5, 10000, p=[0.1, 0, 0.3, 0.6, 0])\n",
    "# Generate a non-uniform random sample from np.arange(5) of size 5\n",
    "# p is the probabilities associated with each entry in the array. \n",
    "# If p is not given the sample assumes a uniform distribution over all entries in the array."
   ]
  },
  {
   "cell_type": "code",
   "execution_count": 10,
   "metadata": {},
   "outputs": [
    {
     "data": {
      "text/plain": [
       "(array([1015.,    0.,    0.,    0.,    0.,    0., 2967.,    0.,    0.,\n",
       "        6018.]),\n",
       " array([0. , 0.3, 0.6, 0.9, 1.2, 1.5, 1.8, 2.1, 2.4, 2.7, 3. ]),\n",
       " <BarContainer object of 10 artists>)"
      ]
     },
     "execution_count": 10,
     "metadata": {},
     "output_type": "execute_result"
    },
    {
     "data": {
      "image/png": "[encoded data removed]",
      "text/plain": [
       "<Figure size 432x288 with 1 Axes>"
      ]
     },
     "metadata": {
      "needs_background": "light"
     },
     "output_type": "display_data"
    }
   ],
   "source": [
    "plt.hist(y)"
   ]
  },
  {
   "cell_type": "markdown",
   "metadata": {},
   "source": [
    "Above we can see that this does not fit the uniform distribution as in the first histogram. <br>\n",
    "***\n",
    "We will look at other distributions further down the Jupyter Notebook. First we need to consider another set of functions available in numpy.random.Generator which are *permutations*. <br>\n",
    "## Permutations\n",
    "A permutation refers to an arrangement of elements. e.g. [3, 2, 1] is a permutation of [1, 2, 3] and vice-versa and the numpy.random module provides two methods for carrying out permutations: shuffle() and permutation() [3]. Using shuffle it is possible to modify a sequence in-place by shuffling its contents so that the order of sub-arrays is changed but their contents remains the same [1]. In a similar manner, the use of the permutation function will randomly permute a sequence, or return a permuted range and leaves the original array unchanged [3]."
   ]
  },
  {
   "cell_type": "code",
   "execution_count": 11,
   "metadata": {},
   "outputs": [
    {
     "data": {
      "text/plain": [
       "array([1, 4, 2, 0, 8, 6, 9, 7, 3, 5])"
      ]
     },
     "execution_count": 11,
     "metadata": {},
     "output_type": "execute_result"
    }
   ],
   "source": [
    "arr = np.arange(10)\n",
    "rng.shuffle(arr)\n",
    "# random \n",
    "arr"
   ]
  },
  {
   "cell_type": "code",
   "execution_count": 12,
   "metadata": {},
   "outputs": [
    {
     "data": {
      "text/plain": [
       "array([[3, 4, 5],\n",
       "       [6, 7, 8],\n",
       "       [0, 1, 2]])"
      ]
     },
     "execution_count": 12,
     "metadata": {},
     "output_type": "execute_result"
    }
   ],
   "source": [
    "arr = np.arange(9).reshape((3, 3))\n",
    "rng.shuffle(arr)\n",
    "# random 3 x 3 array\n",
    "arr"
   ]
  },
  {
   "cell_type": "code",
   "execution_count": 13,
   "metadata": {},
   "outputs": [
    {
     "data": {
      "text/plain": [
       "array([12,  9, 15,  1,  4])"
      ]
     },
     "execution_count": 13,
     "metadata": {},
     "output_type": "execute_result"
    }
   ],
   "source": [
    "rng.permutation([1, 4, 9, 12, 15])\n",
    "# makes a copy and randomly shuffles elements in the array"
   ]
  },
  {
   "cell_type": "markdown",
   "metadata": {},
   "source": [
    "## Distribution Functions\n",
    "Below is an overview of five distribution functions: \n",
    "Standard Normal, Binomial, Chi square, F and T"
   ]
  },
  {
   "cell_type": "markdown",
   "metadata": {},
   "source": [
    "### Standard Normal Distribution\n",
    "Standard normal distribution is very common in social and health sciences research.  It can be referred to as a normal distribution curve because the histogram forms a curve when the top midpoints of the bars are joined together and there will be equal amounts of data to the left and the right of that midpoint [5]. A standard normal curve is also known as a z distribution with a mean = 0 and standard deviation = 1.0.  This is represented by the equation: <br>\n",
    "$$z = \\frac{x-u}{SD}$$ \n",
    "where z is the distribution, x is the raw score, u is the mean and SD is the standard deviation."
   ]
  },
  {
   "cell_type": "code",
   "execution_count": 14,
   "metadata": {},
   "outputs": [
    {
     "data": {
      "text/plain": [
       "(array([1.000e+00, 0.000e+00, 0.000e+00, 1.000e+00, 0.000e+00, 0.000e+00,\n",
       "        1.000e+00, 2.000e+00, 2.000e+00, 3.000e+00, 3.000e+00, 4.000e+00,\n",
       "        6.000e+00, 1.600e+01, 1.800e+01, 1.900e+01, 2.400e+01, 4.100e+01,\n",
       "        4.200e+01, 5.700e+01, 8.800e+01, 1.090e+02, 1.200e+02, 1.550e+02,\n",
       "        1.960e+02, 2.480e+02, 2.880e+02, 3.700e+02, 4.360e+02, 5.420e+02,\n",
       "        6.180e+02, 7.650e+02, 8.370e+02, 9.700e+02, 1.149e+03, 1.321e+03,\n",
       "        1.405e+03, 1.646e+03, 1.843e+03, 1.952e+03, 2.125e+03, 2.341e+03,\n",
       "        2.545e+03, 2.724e+03, 2.833e+03, 3.069e+03, 3.219e+03, 3.300e+03,\n",
       "        3.373e+03, 3.440e+03, 3.540e+03, 3.464e+03, 3.400e+03, 3.511e+03,\n",
       "        3.483e+03, 3.303e+03, 3.186e+03, 3.118e+03, 2.928e+03, 2.817e+03,\n",
       "        2.607e+03, 2.470e+03, 2.313e+03, 1.954e+03, 1.812e+03, 1.697e+03,\n",
       "        1.418e+03, 1.395e+03, 1.151e+03, 1.028e+03, 8.530e+02, 7.360e+02,\n",
       "        6.770e+02, 5.630e+02, 4.390e+02, 3.740e+02, 2.780e+02, 2.500e+02,\n",
       "        2.110e+02, 1.720e+02, 1.270e+02, 1.090e+02, 8.500e+01, 5.200e+01,\n",
       "        4.100e+01, 3.100e+01, 3.700e+01, 2.800e+01, 1.300e+01, 2.000e+01,\n",
       "        1.800e+01, 7.000e+00, 6.000e+00, 4.000e+00, 3.000e+00, 1.000e+00,\n",
       "        1.000e+00, 1.000e+00, 0.000e+00, 1.000e+00]),\n",
       " array([-4.57192342, -4.483324  , -4.39472458, -4.30612516, -4.21752574,\n",
       "        -4.12892632, -4.0403269 , -3.95172749, -3.86312807, -3.77452865,\n",
       "        -3.68592923, -3.59732981, -3.50873039, -3.42013097, -3.33153155,\n",
       "        -3.24293214, -3.15433272, -3.0657333 , -2.97713388, -2.88853446,\n",
       "        -2.79993504, -2.71133562, -2.62273621, -2.53413679, -2.44553737,\n",
       "        -2.35693795, -2.26833853, -2.17973911, -2.09113969, -2.00254028,\n",
       "        -1.91394086, -1.82534144, -1.73674202, -1.6481426 , -1.55954318,\n",
       "        -1.47094376, -1.38234434, -1.29374493, -1.20514551, -1.11654609,\n",
       "        -1.02794667, -0.93934725, -0.85074783, -0.76214841, -0.673549  ,\n",
       "        -0.58494958, -0.49635016, -0.40775074, -0.31915132, -0.2305519 ,\n",
       "        -0.14195248, -0.05335307,  0.03524635,  0.12384577,  0.21244519,\n",
       "         0.30104461,  0.38964403,  0.47824345,  0.56684286,  0.65544228,\n",
       "         0.7440417 ,  0.83264112,  0.92124054,  1.00983996,  1.09843938,\n",
       "         1.1870388 ,  1.27563821,  1.36423763,  1.45283705,  1.54143647,\n",
       "         1.63003589,  1.71863531,  1.80723473,  1.89583414,  1.98443356,\n",
       "         2.07303298,  2.1616324 ,  2.25023182,  2.33883124,  2.42743066,\n",
       "         2.51603007,  2.60462949,  2.69322891,  2.78182833,  2.87042775,\n",
       "         2.95902717,  3.04762659,  3.13622601,  3.22482542,  3.31342484,\n",
       "         3.40202426,  3.49062368,  3.5792231 ,  3.66782252,  3.75642194,\n",
       "         3.84502135,  3.93362077,  4.02222019,  4.11081961,  4.19941903,\n",
       "         4.28801845]),\n",
       " <BarContainer object of 100 artists>)"
      ]
     },
     "execution_count": 14,
     "metadata": {},
     "output_type": "execute_result"
    },
    {
     "data": {
      "image/png": "[encoded data removed]",
      "text/plain": [
       "<Figure size 432x288 with 1 Axes>"
      ]
     },
     "metadata": {
      "needs_background": "light"
     },
     "output_type": "display_data"
    }
   ],
   "source": [
    "import seaborn as sns\n",
    "z = rng.standard_normal(100000)\n",
    "plt.hist(z, bins=100)"
   ]
  },
  {
   "cell_type": "code",
   "execution_count": 15,
   "metadata": {},
   "outputs": [
    {
     "data": {
      "text/plain": [
       "<seaborn.axisgrid.FacetGrid at 0x2a4bc245af0>"
      ]
     },
     "execution_count": 15,
     "metadata": {},
     "output_type": "execute_result"
    },
    {
     "data": {
      "image/png": "[encoded data removed]",
      "text/plain": [
       "<Figure size 360x360 with 1 Axes>"
      ]
     },
     "metadata": {},
     "output_type": "display_data"
    }
   ],
   "source": [
    "sns.set_theme()\n",
    "sns.displot(z, kind=\"kde\")\n",
    "# this will show the Standard Normal distribution curve without the histogram "
   ]
  },
  {
   "cell_type": "markdown",
   "metadata": {},
   "source": [
    "### Binomial distribution\n",
    "The binomial distribution with parameters n and p is the discrete probability distribution of the number of successes in a sequence of n independent experiments, each asking a yes–no question i.e. *will the coin land on heads?*, and each with its own Boolean-valued outcome: success (with probability p) or failure (with probability q = 1 − p) [6]. The distribution will depend on the number of trials in the experiment and the probably of sucess or failure.  "
   ]
  },
  {
   "cell_type": "code",
   "execution_count": 16,
   "metadata": {},
   "outputs": [],
   "source": [
    "rng = np.random.default_rng()\n",
    "n, p = 10, .5\n",
    "# number of trials, probability of each trial\n",
    "b = rng.binomial(n, p, 2000)\n",
    "# result of flipping a coin 10 times, tested 2000 times"
   ]
  },
  {
   "cell_type": "code",
   "execution_count": 17,
   "metadata": {},
   "outputs": [
    {
     "data": {
      "text/plain": [
       "(array([  1.,  31.,  85., 232., 409., 506., 388., 240.,  89.,  19.]),\n",
       " array([ 0.,  1.,  2.,  3.,  4.,  5.,  6.,  7.,  8.,  9., 10.]),\n",
       " <BarContainer object of 10 artists>)"
      ]
     },
     "execution_count": 17,
     "metadata": {},
     "output_type": "execute_result"
    },
    {
     "data": {
      "image/png": "[encoded data removed]",
      "text/plain": [
       "<Figure size 432x288 with 1 Axes>"
      ]
     },
     "metadata": {},
     "output_type": "display_data"
    }
   ],
   "source": [
    "plt.hist(b)"
   ]
  },
  {
   "cell_type": "markdown",
   "metadata": {},
   "source": [
    "The distribution will depend on the number of trials in the experiment and the probably of sucess or failure."
   ]
  },
  {
   "cell_type": "code",
   "execution_count": 18,
   "metadata": {},
   "outputs": [
    {
     "data": {
      "text/plain": [
       "(array([[  1.,  31.,  85., 232., 409., 506., 388., 240.,  89.,  19.],\n",
       "        [235., 532., 562., 412., 183.,  65.,  10.,   1.,   0.,   0.],\n",
       "        [  0.,   0.,   2.,  23.,  71., 185., 385., 534., 498., 302.]]),\n",
       " array([ 0.,  1.,  2.,  3.,  4.,  5.,  6.,  7.,  8.,  9., 10.]),\n",
       " <a list of 3 BarContainer objects>)"
      ]
     },
     "execution_count": 18,
     "metadata": {},
     "output_type": "execute_result"
    },
    {
     "data": {
      "image/png": "[encoded data removed]",
      "text/plain": [
       "<Figure size 432x288 with 1 Axes>"
      ]
     },
     "metadata": {},
     "output_type": "display_data"
    }
   ],
   "source": [
    "p2 = .2\n",
    "# a 20% chance of success each time\n",
    "p3 = .7\n",
    "# a 70% chance of success each time\n",
    "c = rng.binomial(n, p2, 2000)\n",
    "d = rng.binomial(n, p3, 2000)\n",
    "diff_plots = [b, c, d]\n",
    "diff_labels = [\"50% chance of success\", \"20% chance of success\", \"70% chance of success\"]\n",
    "plt.legend(diff_labels)\n",
    "plt.title(\"Different probabilities of success\") \n",
    "plt.hist(diff_plots, label=diff_labels)\n",
    "# I haven't worked out yet why I can't add a legend here \n",
    "# so blue = 0.5 probability of success and orange = 0.2 probability and green = 0.7 probability "
   ]
  },
  {
   "cell_type": "markdown",
   "metadata": {},
   "source": [
    "### Chi Square Distribution\n",
    "The chi square distribution is actually several distributions that vary with the size of the sample, and the shape of the distribution is different depending on the degrees of freedom (df) [6]. Degrees of freedom represent the restrictions on the values when we are estimating a population parameter. So technically df identify how many values are free to vary when making the parameter estimate. These differences related to df will be demonstrated below. Chi square is a statistical procedure that examines frequency counts."
   ]
  },
  {
   "cell_type": "code",
   "execution_count": 19,
   "metadata": {},
   "outputs": [],
   "source": [
    "chi = np.random.default_rng().chisquare(2,400)"
   ]
  },
  {
   "cell_type": "code",
   "execution_count": 20,
   "metadata": {
    "scrolled": true
   },
   "outputs": [
    {
     "data": {
      "text/plain": [
       "(array([238.,  98.,  34.,  20.,   8.,   0.,   0.,   1.,   0.,   1.]),\n",
       " array([1.22719351e-03, 1.79661141e+00, 3.59199562e+00, 5.38737983e+00,\n",
       "        7.18276404e+00, 8.97814825e+00, 1.07735325e+01, 1.25689167e+01,\n",
       "        1.43643009e+01, 1.61596851e+01, 1.79550693e+01]),\n",
       " <BarContainer object of 10 artists>)"
      ]
     },
     "execution_count": 20,
     "metadata": {},
     "output_type": "execute_result"
    },
    {
     "data": {
      "image/png": "[encoded data removed]",
      "text/plain": [
       "<Figure size 432x288 with 1 Axes>"
      ]
     },
     "metadata": {},
     "output_type": "display_data"
    }
   ],
   "source": [
    "plt.hist(chi)"
   ]
  },
  {
   "cell_type": "markdown",
   "metadata": {},
   "source": [
    "If we change the df we can see the different distribution curves"
   ]
  },
  {
   "cell_type": "code",
   "execution_count": 21,
   "metadata": {},
   "outputs": [
    {
     "data": {
      "text/plain": [
       "<seaborn.axisgrid.FacetGrid at 0x2a4c05978e0>"
      ]
     },
     "execution_count": 21,
     "metadata": {},
     "output_type": "execute_result"
    },
    {
     "data": {
      "image/png": "[encoded data removed]",
      "text/plain": [
       "<Figure size 405.725x360 with 1 Axes>"
      ]
     },
     "metadata": {},
     "output_type": "display_data"
    }
   ],
   "source": [
    "chi4 = np.random.default_rng().chisquare(4,400)\n",
    "chi10 = np.random.default_rng().chisquare(10,400)\n",
    "all_plots = [chi, chi4, chi10]\n",
    "sns.displot(all_plots, kind=\"kde\").set(title=\"Different degrees of freedom - impact on distribution curve\")\n",
    "# I haven't worked out yet how to change the labels in Seaborn where data is not imported from a file\n",
    "# so 0 is df=2, 1 is df=4 and 2 is df=10"
   ]
  },
  {
   "cell_type": "markdown",
   "metadata": {},
   "source": [
    "### F distribution\n",
    "F distribution is a sampling distribution of variances rather than means (the latter is the distribution seen in a normal standard distribution). Variance is the average squared distance of the scores in a distribution from the mean and is the squared standard devication. F distribution appears to be a normal distribution that has skewed to the right, this is because variances are never negative values [5]. "
   ]
  },
  {
   "cell_type": "code",
   "execution_count": 22,
   "metadata": {},
   "outputs": [],
   "source": [
    "dfnum = 1. # between group degrees of freedom\n",
    "dfden = 48. # within groups degrees of freedom\n",
    "fdis = np.random.default_rng().f(dfnum, dfden, 1000)"
   ]
  },
  {
   "cell_type": "code",
   "execution_count": 23,
   "metadata": {},
   "outputs": [
    {
     "data": {
      "text/plain": [
       "6.263625449851538"
      ]
     },
     "execution_count": 23,
     "metadata": {},
     "output_type": "execute_result"
    }
   ],
   "source": [
    "np.sort(fdis)[-10]\n",
    "# produces the lower bound for the the top 10%"
   ]
  },
  {
   "cell_type": "code",
   "execution_count": 24,
   "metadata": {},
   "outputs": [
    {
     "data": {
      "text/plain": [
       "(array([838., 120.,  22.,  14.,   2.,   0.,   3.,   0.,   0.,   1.]),\n",
       " array([1.26347169e-06, 1.79920300e+00, 3.59840473e+00, 5.39760646e+00,\n",
       "        7.19680819e+00, 8.99600993e+00, 1.07952117e+01, 1.25944134e+01,\n",
       "        1.43936151e+01, 1.61928169e+01, 1.79920186e+01]),\n",
       " <BarContainer object of 10 artists>)"
      ]
     },
     "execution_count": 24,
     "metadata": {},
     "output_type": "execute_result"
    },
    {
     "data": {
      "image/png": "[encoded data removed]",
      "text/plain": [
       "<Figure size 432x288 with 1 Axes>"
      ]
     },
     "metadata": {},
     "output_type": "display_data"
    }
   ],
   "source": [
    "plt.hist(fdis)"
   ]
  },
  {
   "cell_type": "markdown",
   "metadata": {},
   "source": [
    "\n",
    "### T Distribution\n",
    "The T distribution is the same as the Z distribution in terms of being a standard normal distribution. The T distribution is typically based on small sample sizes and varies by sample size. So larger the sample size the more the T distribution looks like a Z distribution with a large hump in the middle and smaller tails on both sides (similiar to the standard normal distibution histogram shown above) [5].  With a smaller sample, the T distribution has fewer comparision values and it appears flatter.<br>\n",
    "The data below is taken from a study I was involved with and I've decided to use it instead of the data in the numpy documentation to help my learning. However, it is important to note that the t test is based on an assumption that the data comes from a Normal distribution [1] this assumption has not been tested here. <br>\n",
    "There were 9 people with acquired communication disorders and this is a test of spoken word comprehension called PALPA 47.  There are 40 items in the test and on a set of control subjects the mean score was 39.29 and the std dev is 1.07. So is the sample mean within 95% of the control mean?"
   ]
  },
  {
   "cell_type": "code",
   "execution_count": 25,
   "metadata": {},
   "outputs": [
    {
     "data": {
      "text/plain": [
       "34.22222222222222"
      ]
     },
     "execution_count": 25,
     "metadata": {},
     "output_type": "execute_result"
    }
   ],
   "source": [
    "intake = np.array([36, 28, 40, 31, 39, 27, 40, 33, 34])  \n",
    "s = np.random.default_rng().standard_t(8, size = 10000)\n",
    "# there are 9 participants so that means 8 degrees of freedom\n",
    "np.mean(intake)"
   ]
  },
  {
   "cell_type": "code",
   "execution_count": 26,
   "metadata": {},
   "outputs": [
    {
     "data": {
      "text/plain": [
       "4.944132324730441"
      ]
     },
     "execution_count": 26,
     "metadata": {},
     "output_type": "execute_result"
    }
   ],
   "source": [
    "intake.std(ddof=1)"
   ]
  },
  {
   "cell_type": "code",
   "execution_count": 27,
   "metadata": {},
   "outputs": [
    {
     "data": {
      "image/png": "[encoded data removed]",
      "text/plain": [
       "<Figure size 432x288 with 1 Axes>"
      ]
     },
     "metadata": {},
     "output_type": "display_data"
    }
   ],
   "source": [
    "t = (np.mean(intake)-39.29)/(intake.std(ddof=1)/np.sqrt(len(intake)))\n",
    "h = plt.hist(s, bins=10, density=True)"
   ]
  },
  {
   "cell_type": "code",
   "execution_count": 28,
   "metadata": {},
   "outputs": [
    {
     "data": {
      "text/plain": [
       "<seaborn.axisgrid.FacetGrid at 0x2a4bd75d0d0>"
      ]
     },
     "execution_count": 28,
     "metadata": {},
     "output_type": "execute_result"
    },
    {
     "data": {
      "image/png": "[encoded data removed]",
      "text/plain": [
       "<Figure size 405.725x360 with 1 Axes>"
      ]
     },
     "metadata": {},
     "output_type": "display_data"
    }
   ],
   "source": [
    "all_plots2 = [z, s]\n",
    "sns.displot(all_plots2, kind=\"kde\").set(title=\"Standard Normal and T Distribution Curves\")\n",
    "# this will show the Standard Normal distribution curve and the T distribution curve\n",
    "# I haven't worked out yet how to change the labels in Seaborn where data is not imported from file\n",
    "# so 0 = Standard Normal Distribution and 1 = T distribution"
   ]
  },
  {
   "cell_type": "code",
   "execution_count": 29,
   "metadata": {},
   "outputs": [
    {
     "data": {
      "text/plain": [
       "0.0079"
      ]
     },
     "execution_count": 29,
     "metadata": {},
     "output_type": "execute_result"
    }
   ],
   "source": [
    "np.sum(s<t) / float(len(s))"
   ]
  },
  {
   "cell_type": "markdown",
   "metadata": {},
   "source": [
    "The p value is 0.0625 "
   ]
  },
  {
   "cell_type": "markdown",
   "metadata": {},
   "source": [
    "## Use of seeds in the generation of pseudorandom numbers in Python\n",
    "In the numpy.random package in python, a seed is simply a function that sets the random seed of the NumPy pseudo-random number generator. It provides an essential input that enables NumPy to generate pseudo-random numbers for random processes.\n",
    "The Generator provides access to a wide range of distributions. It relies on an additional BitGenerator to manage state and generate the random bits, which are then transformed into random values from useful distributions. The default BitGenerator used by Generator in numPy is PCG64 [1].  The PCG family is a family of simple, fast, space-efficient, statistically good algorithms for random number generation. Unlike many general-purpose RNGs, they are also hard to predict [8]. <br>\n",
    "\n",
    "The generation of pseudorandom numbers is important in computing. Computers are completely deterministic, not random and so pseudo-random numbers are computer generated numbers that appear random, but are actually predetermined. If you give a computer a certain input, it will precisely follow instructions to produce an output. Then, if you later give the computer the same input, it will produce the same output. This will pose a problem if you want to produce random numbers, especially to ensure security or encrypt information.  Pseudo-random number generators are deterministic, they are also repeatable. So, if you run the algorithm with the same input, it will produce the same output.  This means you can use pseudo-random number generators to create and then re-create the exact same set of pseudo-random numbers but in order to do this you must know the seed [10]. <br> \n",
    "\n",
    "So below I will run use the random generator function in two instances; one where the seed is not provided, and one where the seed is provided."
   ]
  },
  {
   "cell_type": "code",
   "execution_count": 43,
   "metadata": {},
   "outputs": [
    {
     "data": {
      "text/plain": [
       "array([2, 6, 0, 7, 7], dtype=int64)"
      ]
     },
     "execution_count": 43,
     "metadata": {},
     "output_type": "execute_result"
    }
   ],
   "source": [
    "rng = np.random.default_rng()\n",
    "rng.integers(10, size=5)\n",
    "# here the seed is not provided so an unpredictable entropy is pulled from the OS [1]. \n",
    "# here the array is made up of pseudorandom numbers that cannot be predicted."
   ]
  },
  {
   "cell_type": "code",
   "execution_count": 44,
   "metadata": {},
   "outputs": [
    {
     "data": {
      "text/plain": [
       "array([5, 8, 2, 0, 6], dtype=int64)"
      ]
     },
     "execution_count": 44,
     "metadata": {},
     "output_type": "execute_result"
    }
   ],
   "source": [
    "rng = np.random.default_rng()\n",
    "rng.integers(10, size=5)\n",
    "# the function is repeated as above but again the seed is generated by PCG64\n",
    "# the numbers cannot be predicted and will be differ from the array above"
   ]
  },
  {
   "cell_type": "code",
   "execution_count": 45,
   "metadata": {},
   "outputs": [
    {
     "data": {
      "text/plain": [
       "array([4, 5, 7, 9, 0], dtype=int64)"
      ]
     },
     "execution_count": 45,
     "metadata": {},
     "output_type": "execute_result"
    }
   ],
   "source": [
    "new_rng = np.random.default_rng(1)\n",
    "# the seed is provided\n",
    "new_rng.integers(10, size=5)"
   ]
  },
  {
   "cell_type": "code",
   "execution_count": 46,
   "metadata": {},
   "outputs": [
    {
     "data": {
      "text/plain": [
       "array([4, 5, 7, 9, 0], dtype=int64)"
      ]
     },
     "execution_count": 46,
     "metadata": {},
     "output_type": "execute_result"
    }
   ],
   "source": [
    "new_rng = np.random.default_rng(1)\n",
    "new_rng.integers(10, size=5)\n",
    "# the array is as predicted and has remains the same because the same seed was provided here"
   ]
  },
  {
   "cell_type": "markdown",
   "metadata": {},
   "source": [
    "### End"
   ]
  }
 ],
 "metadata": {
  "kernelspec": {
   "display_name": "Python 3",
   "language": "python",
   "name": "python3"
  },
  "language_info": {
   "codemirror_mode": {
    "name": "ipython",
    "version": 3
   },
   "file_extension": ".py",
   "mimetype": "text/x-python",
   "name": "python",
   "nbconvert_exporter": "python",
   "pygments_lexer": "ipython3",
   "version": "3.8.5"
  }
 },
 "nbformat": 4,
 "nbformat_minor": 2
}
