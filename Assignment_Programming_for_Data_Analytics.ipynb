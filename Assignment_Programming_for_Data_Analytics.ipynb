{
 "cells": [
  {
   "cell_type": "markdown",
   "metadata": {},
   "source": [
    "# Assignment for Programming for Data Analysis Due 22nd of November 2020\n",
    "\n",
    "This assignment includes the following tasks:\n",
    "1. Explanation of the overall purpose of numpy.random package in Python\n",
    "2. Explanation of the use of the \"Simple random data\" and \"Permutations\" functions\n",
    "3. Explanation of the use and purpose of at least five \"Distributions\" functions\n",
    "4. Explanation of the use of seeds in generating pseudorandom numbers\n",
    "\n",
    "The following references are used in this assignment <br>\n",
    "[1] https://numpy.org/ <br>\n",
    "[2] https://mathworld.wolfram.com/UniformDistribution.html <br>\n",
    "[3] https://www.w3schools.com/python/numpy_random_permutation.asp <br>\n",
    "[4] https://www.isrctn.com/editorial/retrieveFile/5cddbcff-b1f2-48a6-9ecd-2187e98adb60/36906 <br>\n",
    "[5] Abbott, M.L (2016) Using Statistics in the Social and Health Sciences with SPSS and Excel. Wiley Publishers. <br>\n",
    "[6] https://en.wikipedia.org/wiki/Binomial_distribution <br>\n",
    "[7] Kay, J., Coltheart, M., & Lesser, R. (1992). Psycholinguistic Assessments of Language Processing in\n",
    "Aphasia,(PALPA): Auditory Processing. Lawrence Erlbaum Associates.<br>\n",
    "[8] https://stackoverflow.com/questions/32899463/how-can-i-overlay-two-graphs-in-seaborn"
   ]
  },
  {
   "cell_type": "markdown",
   "metadata": {},
   "source": [
    "## Purpose of numpy.random package and use of simple random data \n",
    "The numpy.random package allows the user to produce pseudorandom numbers.  In order to do this the package uses a BitGenerator which creates sequences and a Generator that uses the sequences created by the BitGenerator to sample from different statistical distributions [1].   "
   ]
  },
  {
   "cell_type": "code",
   "execution_count": 1,
   "metadata": {},
   "outputs": [],
   "source": [
    "import numpy as np\n",
    "rng = np.random.default_rng()\n",
    "# using default_rng() will get a new instance of a Generator with the default BitGenerator (PCG64). \n",
    "# it is then possible to call this Generator method to get samples from different distributions [1]. "
   ]
  },
  {
   "cell_type": "code",
   "execution_count": 2,
   "metadata": {},
   "outputs": [
    {
     "data": {
      "text/plain": [
       "array([1, 2, 1, 2, 1, 2, 2, 2, 0, 2, 0, 2, 2, 0, 0], dtype=int64)"
      ]
     },
     "execution_count": 2,
     "metadata": {},
     "output_type": "execute_result"
    }
   ],
   "source": [
    "rng.integers(3, size=15)\n",
    "# this will return 15 random integers from 0 up to but not inclusive of 3 "
   ]
  },
  {
   "cell_type": "markdown",
   "metadata": {},
   "source": [
    "dtype is a data type object and it describes how the bytes in the fixed-size block of memory corresponding to an array item should be interpreted. The default value is np.int64. as seen above"
   ]
  },
  {
   "cell_type": "code",
   "execution_count": 3,
   "metadata": {},
   "outputs": [
    {
     "data": {
      "text/plain": [
       "array([[2, 4, 0, 2],\n",
       "       [4, 3, 4, 1]], dtype=int64)"
      ]
     },
     "execution_count": 3,
     "metadata": {},
     "output_type": "execute_result"
    }
   ],
   "source": [
    "rng.integers(5, size=(2, 4))\n",
    "# generate a 2 x 4 array "
   ]
  },
  {
   "cell_type": "code",
   "execution_count": 4,
   "metadata": {},
   "outputs": [
    {
     "data": {
      "text/plain": [
       "array([2, 7, 2], dtype=int64)"
      ]
     },
     "execution_count": 4,
     "metadata": {},
     "output_type": "execute_result"
    }
   ],
   "source": [
    "rng.integers(0, [3, 20, 10])\n",
    "# generate numbers with a lower bound of 0 and an three different upper bounds"
   ]
  },
  {
   "cell_type": "code",
   "execution_count": 5,
   "metadata": {},
   "outputs": [
    {
     "data": {
      "text/plain": [
       "array([[ 2, 13,  8, 17],\n",
       "       [ 3,  7,  1, 15]], dtype=int64)"
      ]
     },
     "execution_count": 5,
     "metadata": {},
     "output_type": "execute_result"
    }
   ],
   "source": [
    "rng.integers(1, [5, 15, 10, 20], size=(2, 4))\n",
    "# generate a 2 x 4 array with lower bound of 1 and four different upper bounds"
   ]
  },
  {
   "cell_type": "code",
   "execution_count": 6,
   "metadata": {},
   "outputs": [
    {
     "data": {
      "text/plain": [
       "array([31, 12, 18, ...,  6, 19, 69], dtype=int64)"
      ]
     },
     "execution_count": 6,
     "metadata": {},
     "output_type": "execute_result"
    }
   ],
   "source": [
    "x = rng.integers(100, size=100000)\n",
    "# x is an array of 100000 numbers between 0 and up to but not including 100\n",
    "x"
   ]
  },
  {
   "cell_type": "code",
   "execution_count": 7,
   "metadata": {},
   "outputs": [],
   "source": [
    "import matplotlib.pyplot as plt\n",
    "# library to create visualisations in Python including histograms"
   ]
  },
  {
   "cell_type": "code",
   "execution_count": 8,
   "metadata": {},
   "outputs": [
    {
     "data": {
      "text/plain": [
       "(array([10066., 10127.,  9959., 10056., 10079.,  9868.,  9866.,  9873.,\n",
       "        10055., 10051.]),\n",
       " array([ 0. ,  9.9, 19.8, 29.7, 39.6, 49.5, 59.4, 69.3, 79.2, 89.1, 99. ]),\n",
       " <BarContainer object of 10 artists>)"
      ]
     },
     "execution_count": 8,
     "metadata": {},
     "output_type": "execute_result"
    },
    {
     "data": {
      "image/png": "[encoded data removed]",
      "text/plain": [
       "<Figure size 432x288 with 1 Axes>"
      ]
     },
     "metadata": {
      "needs_background": "light"
     },
     "output_type": "display_data"
    }
   ],
   "source": [
    "plt.hist(x)\n",
    "# display a histogram of x"
   ]
  },
  {
   "cell_type": "markdown",
   "metadata": {},
   "source": [
    "The distribution above represents a uniform distribution.  If we changed the size to 10 million in Line 6 above we would definitely see a clear retangular distribution with a straight line on top of the retangle and that indicates a distribution that has constant probability [2].\n",
    "***"
   ]
  },
  {
   "cell_type": "markdown",
   "metadata": {},
   "source": [
    "Above is an example of simple random data function that returns random integers from low (inclusive) to high (exclusive) [1] with a uniform distribution. It is also possible to use simple random data functions to generate a random sample from a given 1-D array. "
   ]
  },
  {
   "cell_type": "code",
   "execution_count": 9,
   "metadata": {},
   "outputs": [],
   "source": [
    "y = rng.choice(5, 10000, p=[0.1, 0, 0.3, 0.6, 0])\n",
    "# Generate a non-uniform random sample from np.arange(5) of size 5\n",
    "# p is the probabilities associated with each entry in the array. \n",
    "# If p is not given the sample assumes a uniform distribution over all entries in the array."
   ]
  },
  {
   "cell_type": "code",
   "execution_count": 10,
   "metadata": {},
   "outputs": [
    {
     "data": {
      "text/plain": [
       "(array([ 993.,    0.,    0.,    0.,    0.,    0., 3095.,    0.,    0.,\n",
       "        5912.]),\n",
       " array([0. , 0.3, 0.6, 0.9, 1.2, 1.5, 1.8, 2.1, 2.4, 2.7, 3. ]),\n",
       " <BarContainer object of 10 artists>)"
      ]
     },
     "execution_count": 10,
     "metadata": {},
     "output_type": "execute_result"
    },
    {
     "data": {
      "image/png": "[encoded data removed]",
      "text/plain": [
       "<Figure size 432x288 with 1 Axes>"
      ]
     },
     "metadata": {
      "needs_background": "light"
     },
     "output_type": "display_data"
    }
   ],
   "source": [
    "plt.hist(y)"
   ]
  },
  {
   "cell_type": "markdown",
   "metadata": {},
   "source": [
    "Above we can see that this does not fit the uniform distribution as in the first histogram. <br>\n",
    "***\n",
    "We will look at other distributions further down the Jupyter Notebook. First we need to consider another set of functions available in numpy.random.Generator which are *permutations*. <br>\n",
    "## Permutations\n",
    "A permutation refers to an arrangement of elements. e.g. [3, 2, 1] is a permutation of [1, 2, 3] and vice-versa and the numpy.random module provides two methods for carrying out permutations: shuffle() and permutation() [3]. Using shuffle it is possible to modify a sequence in-place by shuffling its contents so that the order of sub-arrays is changed but their contents remains the same [1]. In a similar manner, the use of the permutation function will randomly permute a sequence, or return a permuted range and leaves the original array unchanged [3]."
   ]
  },
  {
   "cell_type": "code",
   "execution_count": 11,
   "metadata": {},
   "outputs": [
    {
     "data": {
      "text/plain": [
       "array([1, 0, 2, 8, 3, 6, 4, 5, 9, 7])"
      ]
     },
     "execution_count": 11,
     "metadata": {},
     "output_type": "execute_result"
    }
   ],
   "source": [
    "arr = np.arange(10)\n",
    "rng.shuffle(arr)\n",
    "# random \n",
    "arr"
   ]
  },
  {
   "cell_type": "code",
   "execution_count": 12,
   "metadata": {},
   "outputs": [
    {
     "data": {
      "text/plain": [
       "array([[0, 1, 2],\n",
       "       [6, 7, 8],\n",
       "       [3, 4, 5]])"
      ]
     },
     "execution_count": 12,
     "metadata": {},
     "output_type": "execute_result"
    }
   ],
   "source": [
    "arr = np.arange(9).reshape((3, 3))\n",
    "rng.shuffle(arr)\n",
    "# random 3 x 3 array\n",
    "arr"
   ]
  },
  {
   "cell_type": "code",
   "execution_count": 13,
   "metadata": {},
   "outputs": [
    {
     "data": {
      "text/plain": [
       "array([ 9, 12,  4,  1, 15])"
      ]
     },
     "execution_count": 13,
     "metadata": {},
     "output_type": "execute_result"
    }
   ],
   "source": [
    "rng.permutation([1, 4, 9, 12, 15])\n",
    "# makes a copy and randomly shuffles elements in the array"
   ]
  },
  {
   "cell_type": "markdown",
   "metadata": {},
   "source": [
    "## Distribution Functions\n",
    "Below is an overview of five distribution functions: \n",
    "Standard Normal, Binomial, Chi square, F and T"
   ]
  },
  {
   "cell_type": "markdown",
   "metadata": {},
   "source": [
    "### Standard Normal Distribution\n",
    "Standard normal distribution is very common in social and health sciences research.  It can be referred to as a normal distribution curve because the histogram forms a curve when the top midpoints of the bars are joined together and there will be equal amounts of data to the left and the right of that midpoint [5]. A standard normal curve is also known as a z distribution with a mean = 0 and standard deviation = 1.0.  This is represented by the equation: <br>\n",
    "$$z = \\frac{x-u}{SD}$$ \n",
    "where z is the distribution, x is the raw score, u is the mean and SD is the standard deviation."
   ]
  },
  {
   "cell_type": "code",
   "execution_count": 14,
   "metadata": {},
   "outputs": [
    {
     "data": {
      "text/plain": [
       "(array([1.000e+00, 0.000e+00, 0.000e+00, 0.000e+00, 0.000e+00, 0.000e+00,\n",
       "        3.000e+00, 1.000e+00, 6.000e+00, 7.000e+00, 7.000e+00, 1.100e+01,\n",
       "        1.600e+01, 2.100e+01, 2.500e+01, 4.400e+01, 5.200e+01, 5.400e+01,\n",
       "        7.400e+01, 1.110e+02, 1.010e+02, 1.480e+02, 1.600e+02, 2.570e+02,\n",
       "        2.710e+02, 3.530e+02, 3.980e+02, 4.600e+02, 5.960e+02, 6.750e+02,\n",
       "        7.870e+02, 9.130e+02, 1.020e+03, 1.277e+03, 1.405e+03, 1.556e+03,\n",
       "        1.774e+03, 1.889e+03, 2.074e+03, 2.241e+03, 2.459e+03, 2.655e+03,\n",
       "        2.777e+03, 2.939e+03, 3.103e+03, 3.215e+03, 3.270e+03, 3.515e+03,\n",
       "        3.491e+03, 3.495e+03, 3.402e+03, 3.519e+03, 3.436e+03, 3.380e+03,\n",
       "        3.307e+03, 3.098e+03, 2.976e+03, 2.885e+03, 2.615e+03, 2.533e+03,\n",
       "        2.330e+03, 2.122e+03, 1.896e+03, 1.759e+03, 1.547e+03, 1.392e+03,\n",
       "        1.277e+03, 1.072e+03, 9.470e+02, 7.910e+02, 6.990e+02, 6.150e+02,\n",
       "        4.880e+02, 4.090e+02, 3.560e+02, 2.970e+02, 2.150e+02, 1.940e+02,\n",
       "        1.610e+02, 1.150e+02, 9.500e+01, 1.010e+02, 4.800e+01, 6.500e+01,\n",
       "        4.000e+01, 3.600e+01, 2.200e+01, 1.700e+01, 8.000e+00, 6.000e+00,\n",
       "        7.000e+00, 6.000e+00, 1.000e+00, 1.000e+00, 4.000e+00, 1.000e+00,\n",
       "        0.000e+00, 0.000e+00, 1.000e+00, 1.000e+00]),\n",
       " array([-4.39077523, -4.30306299, -4.21535076, -4.12763852, -4.03992628,\n",
       "        -3.95221405, -3.86450181, -3.77678957, -3.68907734, -3.6013651 ,\n",
       "        -3.51365286, -3.42594063, -3.33822839, -3.25051616, -3.16280392,\n",
       "        -3.07509168, -2.98737945, -2.89966721, -2.81195497, -2.72424274,\n",
       "        -2.6365305 , -2.54881827, -2.46110603, -2.37339379, -2.28568156,\n",
       "        -2.19796932, -2.11025708, -2.02254485, -1.93483261, -1.84712037,\n",
       "        -1.75940814, -1.6716959 , -1.58398367, -1.49627143, -1.40855919,\n",
       "        -1.32084696, -1.23313472, -1.14542248, -1.05771025, -0.96999801,\n",
       "        -0.88228578, -0.79457354, -0.7068613 , -0.61914907, -0.53143683,\n",
       "        -0.44372459, -0.35601236, -0.26830012, -0.18058788, -0.09287565,\n",
       "        -0.00516341,  0.08254882,  0.17026106,  0.2579733 ,  0.34568553,\n",
       "         0.43339777,  0.52111001,  0.60882224,  0.69653448,  0.78424672,\n",
       "         0.87195895,  0.95967119,  1.04738342,  1.13509566,  1.2228079 ,\n",
       "         1.31052013,  1.39823237,  1.48594461,  1.57365684,  1.66136908,\n",
       "         1.74908131,  1.83679355,  1.92450579,  2.01221802,  2.09993026,\n",
       "         2.1876425 ,  2.27535473,  2.36306697,  2.45077921,  2.53849144,\n",
       "         2.62620368,  2.71391591,  2.80162815,  2.88934039,  2.97705262,\n",
       "         3.06476486,  3.1524771 ,  3.24018933,  3.32790157,  3.4156138 ,\n",
       "         3.50332604,  3.59103828,  3.67875051,  3.76646275,  3.85417499,\n",
       "         3.94188722,  4.02959946,  4.1173117 ,  4.20502393,  4.29273617,\n",
       "         4.3804484 ]),\n",
       " <BarContainer object of 100 artists>)"
      ]
     },
     "execution_count": 14,
     "metadata": {},
     "output_type": "execute_result"
    },
    {
     "data": {
      "image/png": "[encoded data removed]",
      "text/plain": [
       "<Figure size 432x288 with 1 Axes>"
      ]
     },
     "metadata": {
      "needs_background": "light"
     },
     "output_type": "display_data"
    }
   ],
   "source": [
    "import seaborn as sns\n",
    "z = rng.standard_normal(100000)\n",
    "plt.hist(z, bins=100)"
   ]
  },
  {
   "cell_type": "code",
   "execution_count": 15,
   "metadata": {},
   "outputs": [
    {
     "data": {
      "text/plain": [
       "<seaborn.axisgrid.FacetGrid at 0x26a25a9a4c0>"
      ]
     },
     "execution_count": 15,
     "metadata": {},
     "output_type": "execute_result"
    },
    {
     "data": {
      "image/png": "[encoded data removed]",
      "text/plain": [
       "<Figure size 360x360 with 1 Axes>"
      ]
     },
     "metadata": {},
     "output_type": "display_data"
    }
   ],
   "source": [
    "sns.set_theme()\n",
    "sns.displot(z, kind=\"kde\")\n",
    "# this will show the Standard Normal distribution curve without the histogram "
   ]
  },
  {
   "cell_type": "markdown",
   "metadata": {},
   "source": [
    "### Binomial distribution\n",
    "The binomial distribution with parameters n and p is the discrete probability distribution of the number of successes in a sequence of n independent experiments, each asking a yes–no question i.e. *will the coin land on heads?*, and each with its own Boolean-valued outcome: success (with probability p) or failure (with probability q = 1 − p) [6]. The distribution will depend on the number of trials in the experiment and the probably of sucess or failure.  "
   ]
  },
  {
   "cell_type": "code",
   "execution_count": 16,
   "metadata": {},
   "outputs": [],
   "source": [
    "rng = np.random.default_rng()\n",
    "n, p = 10, .5\n",
    "# number of trials, probability of each trial\n",
    "b = rng.binomial(n, p, 2000)\n",
    "# result of flipping a coin 10 times, tested 2000 times"
   ]
  },
  {
   "cell_type": "code",
   "execution_count": 54,
   "metadata": {},
   "outputs": [
    {
     "data": {
      "text/plain": [
       "(array([ 21.,  93., 215., 417., 458., 442., 229.,  98.,  26.,   1.]),\n",
       " array([ 1. ,  1.9,  2.8,  3.7,  4.6,  5.5,  6.4,  7.3,  8.2,  9.1, 10. ]),\n",
       " <BarContainer object of 10 artists>)"
      ]
     },
     "execution_count": 54,
     "metadata": {},
     "output_type": "execute_result"
    },
    {
     "data": {
      "image/png": "[encoded data removed]",
      "text/plain": [
       "<Figure size 432x288 with 1 Axes>"
      ]
     },
     "metadata": {},
     "output_type": "display_data"
    }
   ],
   "source": [
    "plt.hist(b)"
   ]
  },
  {
   "cell_type": "markdown",
   "metadata": {},
   "source": [
    "The distribution will depend on the number of trials in the experiment and the probably of sucess or failure."
   ]
  },
  {
   "cell_type": "code",
   "execution_count": 81,
   "metadata": {},
   "outputs": [
    {
     "data": {
      "text/plain": [
       "(array([[  0.,  21.,  93., 215., 417., 458., 442., 229.,  98.,  27.],\n",
       "        [212., 524., 608., 420., 162.,  58.,  12.,   4.,   0.,   0.],\n",
       "        [  0.,   2.,   1.,  18.,  55., 200., 390., 551., 480., 303.]]),\n",
       " array([ 0.,  1.,  2.,  3.,  4.,  5.,  6.,  7.,  8.,  9., 10.]),\n",
       " <a list of 3 BarContainer objects>)"
      ]
     },
     "execution_count": 81,
     "metadata": {},
     "output_type": "execute_result"
    },
    {
     "data": {
      "image/png": "[encoded data removed]",
      "text/plain": [
       "<Figure size 432x288 with 1 Axes>"
      ]
     },
     "metadata": {},
     "output_type": "display_data"
    }
   ],
   "source": [
    "p2 = .2\n",
    "# a 20% chance of success each time\n",
    "p3 = .7\n",
    "# a 70% chance of success each time\n",
    "c = rng.binomial(n, p2, 2000)\n",
    "d = rng.binomial(n, p3, 2000)\n",
    "diff_plots = [b, c, d]\n",
    "diff_labels = [\"50% chance of success\", \"20% chance of success\", \"70% chance of success\"]\n",
    "plt.legend(diff_labels)\n",
    "plt.title(\"Different probabilities of success\") \n",
    "plt.hist(diff_plots, label=diff_labels)\n",
    "# I haven't worked out yet why I can't add a legend here \n",
    "# so blue = 0.5 probability of success and orange = 0.2 probability and green = 0.7 probability "
   ]
  },
  {
   "cell_type": "markdown",
   "metadata": {},
   "source": [
    "### Chi Square Distribution\n",
    "The chi square distribution is actually several distributions that vary with the size of the sample, and the shape of the distribution is different depending on the degrees of freedom (df) [6]. Degrees of freedom represent the restrictions on the values when we are estimating a population parameter. So technically df identify how many values are free to vary when making the parameter estimate. These differences related to df will be demonstrated below. Chi square is a statistical procedure that examines frequency counts."
   ]
  },
  {
   "cell_type": "code",
   "execution_count": 18,
   "metadata": {},
   "outputs": [],
   "source": [
    "chi = np.random.default_rng().chisquare(2,400)"
   ]
  },
  {
   "cell_type": "code",
   "execution_count": 19,
   "metadata": {
    "scrolled": true
   },
   "outputs": [
    {
     "data": {
      "text/plain": [
       "(array([183.,  95.,  59.,  28.,  14.,   8.,   5.,   5.,   1.,   2.]),\n",
       " array([1.35550826e-03, 1.13484711e+00, 2.26833870e+00, 3.40183030e+00,\n",
       "        4.53532190e+00, 5.66881350e+00, 6.80230510e+00, 7.93579670e+00,\n",
       "        9.06928829e+00, 1.02027799e+01, 1.13362715e+01]),\n",
       " <BarContainer object of 10 artists>)"
      ]
     },
     "execution_count": 19,
     "metadata": {},
     "output_type": "execute_result"
    },
    {
     "data": {
      "image/png": "[encoded data removed]",
      "text/plain": [
       "<Figure size 432x288 with 1 Axes>"
      ]
     },
     "metadata": {},
     "output_type": "display_data"
    }
   ],
   "source": [
    "plt.hist(chi)"
   ]
  },
  {
   "cell_type": "markdown",
   "metadata": {},
   "source": [
    "If we change the df we can see the different distribution curves"
   ]
  },
  {
   "cell_type": "code",
   "execution_count": 75,
   "metadata": {},
   "outputs": [
    {
     "data": {
      "text/plain": [
       "<seaborn.axisgrid.FacetGrid at 0x26a2beacc40>"
      ]
     },
     "execution_count": 75,
     "metadata": {},
     "output_type": "execute_result"
    },
    {
     "data": {
      "image/png": "[encoded data removed]",
      "text/plain": [
       "<Figure size 405.725x360 with 1 Axes>"
      ]
     },
     "metadata": {},
     "output_type": "display_data"
    }
   ],
   "source": [
    "chi4 = np.random.default_rng().chisquare(4,400)\n",
    "chi10 = np.random.default_rng().chisquare(10,400)\n",
    "all_plots = [chi, chi4, chi10]\n",
    "sns.displot(all_plots, kind=\"kde\").set(title=\"Different degrees of freedom - impact on distribution curve\")\n",
    "# I haven't worked out yet how to change the labels in Seaborn where data is not imported from a file\n",
    "# so 0 is df=2, 1 is df=4 and 2 is df=10"
   ]
  },
  {
   "cell_type": "markdown",
   "metadata": {},
   "source": [
    "### F distribution\n",
    "F distribution is a sampling distribution of variances rather than means (the latter is the distribution seen in a normal standard distribution). Variance is the average squared distance of the scores in a distribution from the mean and is the squared standard devication. F distribution appears to be a normal distribution that has skewed to the right, this is because variances are never negative values [5]. "
   ]
  },
  {
   "cell_type": "code",
   "execution_count": 22,
   "metadata": {},
   "outputs": [],
   "source": [
    "dfnum = 1. # between group degrees of freedom\n",
    "dfden = 48. # within groups degrees of freedom\n",
    "fdis = np.random.default_rng().f(dfnum, dfden, 1000)"
   ]
  },
  {
   "cell_type": "code",
   "execution_count": 23,
   "metadata": {},
   "outputs": [
    {
     "data": {
      "text/plain": [
       "6.8021542482937605"
      ]
     },
     "execution_count": 23,
     "metadata": {},
     "output_type": "execute_result"
    }
   ],
   "source": [
    "np.sort(fdis)[-10]\n",
    "# produces the lower bound for the the top 10%"
   ]
  },
  {
   "cell_type": "code",
   "execution_count": 24,
   "metadata": {},
   "outputs": [
    {
     "data": {
      "text/plain": [
       "(array([718., 160.,  56.,  38.,  14.,   5.,   5.,   3.,   0.,   1.]),\n",
       " array([3.95965346e-11, 1.17056863e+00, 2.34113726e+00, 3.51170589e+00,\n",
       "        4.68227452e+00, 5.85284315e+00, 7.02341178e+00, 8.19398041e+00,\n",
       "        9.36454904e+00, 1.05351177e+01, 1.17056863e+01]),\n",
       " <BarContainer object of 10 artists>)"
      ]
     },
     "execution_count": 24,
     "metadata": {},
     "output_type": "execute_result"
    },
    {
     "data": {
      "image/png": "[encoded data removed]",
      "text/plain": [
       "<Figure size 432x288 with 1 Axes>"
      ]
     },
     "metadata": {},
     "output_type": "display_data"
    }
   ],
   "source": [
    "plt.hist(fdis)"
   ]
  },
  {
   "cell_type": "markdown",
   "metadata": {},
   "source": [
    "\n",
    "### T Distribution\n",
    "The T distribution is the same as the Z distribution in terms of being a standard normal distribution. The T distribution is typically based on small sample sizes and varies by sample size. So larger the sample size the more the T distribution looks like a Z distribution with a large hump in the middle and smaller tails on both sides (similiar to the standard normal distibution histogram shown above) [5].  With a smaller sample, the T distribution has fewer comparision values and it appears flatter.<br>\n",
    "The data below is taken from a study I was involved with and I've decided to use it instead of the data in the numpy documentation to help my learning. However, it is important to note that the t test is based on an assumption that the data comes from a Normal distribution [1] this assumption has not been tested here. <br>\n",
    "There were 9 people with acquired communication disorders and this is a test of spoken word comprehension called PALPA 47.  There are 40 items in the test and on a set of control subjects the mean score was 39.29 and the std dev is 1.07. So is the sample mean within 95% of the control mean?"
   ]
  },
  {
   "cell_type": "code",
   "execution_count": 46,
   "metadata": {},
   "outputs": [
    {
     "data": {
      "text/plain": [
       "34.22222222222222"
      ]
     },
     "execution_count": 46,
     "metadata": {},
     "output_type": "execute_result"
    }
   ],
   "source": [
    "intake = np.array([36, 28, 40, 31, 39, 27, 40, 33, 34])  \n",
    "s = np.random.default_rng().standard_t(8, size = 10000)\n",
    "# there are 9 participants so that means 8 degrees of freedom\n",
    "np.mean(intake)"
   ]
  },
  {
   "cell_type": "code",
   "execution_count": 47,
   "metadata": {},
   "outputs": [
    {
     "data": {
      "text/plain": [
       "4.944132324730441"
      ]
     },
     "execution_count": 47,
     "metadata": {},
     "output_type": "execute_result"
    }
   ],
   "source": [
    "intake.std(ddof=1)"
   ]
  },
  {
   "cell_type": "code",
   "execution_count": 48,
   "metadata": {},
   "outputs": [
    {
     "data": {
      "image/png": "[encoded data removed]",
      "text/plain": [
       "<Figure size 432x288 with 1 Axes>"
      ]
     },
     "metadata": {},
     "output_type": "display_data"
    }
   ],
   "source": [
    "t = (np.mean(intake)-39.29)/(intake.std(ddof=1)/np.sqrt(len(intake)))\n",
    "h = plt.hist(s, bins=10, density=True)"
   ]
  },
  {
   "cell_type": "code",
   "execution_count": 82,
   "metadata": {},
   "outputs": [
    {
     "data": {
      "text/plain": [
       "<seaborn.axisgrid.FacetGrid at 0x26a2bd1d940>"
      ]
     },
     "execution_count": 82,
     "metadata": {},
     "output_type": "execute_result"
    },
    {
     "data": {
      "image/png": "[encoded data removed]",
      "text/plain": [
       "<Figure size 405.725x360 with 1 Axes>"
      ]
     },
     "metadata": {},
     "output_type": "display_data"
    }
   ],
   "source": [
    "all_plots2 = [z, s]\n",
    "sns.displot(all_plots2, kind=\"kde\").set(title=\"Standard Normal and T Distribution Curves\")\n",
    "# this will show the Standard Normal distribution curve and the T distribution curve\n",
    "# I haven't worked out yet how to change the labels in Seaborn where data is not imported from file\n",
    "# so 0 = Standard Normal Distribution and 1 = T distribution"
   ]
  },
  {
   "cell_type": "code",
   "execution_count": 28,
   "metadata": {},
   "outputs": [
    {
     "data": {
      "text/plain": [
       "0.0"
      ]
     },
     "execution_count": 28,
     "metadata": {},
     "output_type": "execute_result"
    }
   ],
   "source": [
    "np.sum(s<t) / float(len(s))"
   ]
  },
  {
   "cell_type": "markdown",
   "metadata": {},
   "source": [
    "The p value is 0.0625 "
   ]
  },
  {
   "cell_type": "markdown",
   "metadata": {},
   "source": [
    "## Use of seeds in the generation of pseudorandom numbers in Python"
   ]
  }
 ],
 "metadata": {
  "kernelspec": {
   "display_name": "Python 3",
   "language": "python",
   "name": "python3"
  },
  "language_info": {
   "codemirror_mode": {
    "name": "ipython",
    "version": 3
   },
   "file_extension": ".py",
   "mimetype": "text/x-python",
   "name": "python",
   "nbconvert_exporter": "python",
   "pygments_lexer": "ipython3",
   "version": "3.8.5"
  }
 },
 "nbformat": 4,
 "nbformat_minor": 2
}
