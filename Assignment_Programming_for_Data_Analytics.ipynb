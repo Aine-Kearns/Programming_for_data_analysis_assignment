{
 "cells": [
  {
   "cell_type": "markdown",
   "metadata": {},
   "source": [
    "# Assignment for Programming for Data Analysis Due 22nd of November 2020\n",
    "\n",
    "This assignment includes the following tasks:\n",
    "1. Explanation of the overall purpose of numpy.random package in Python\n",
    "2. Explanation of the use of the \"Simple random data\" and \"Permutations\" functions\n",
    "3. Explanation of the use and purpose of at least five \"Distributions\" functions\n",
    "4. Explanation of the use of seeds in generating pseudorandom numbers\n",
    "\n",
    "The following references are used in this assignment <br>\n",
    "[1] https://numpy.org/ <br>\n",
    "[2] https://mathworld.wolfram.com/UniformDistribution.html <br>\n",
    "[3] https://www.w3schools.com/python/numpy_random_permutation.asp <br>\n",
    "[4] https://www.isrctn.com/editorial/retrieveFile/5cddbcff-b1f2-48a6-9ecd-2187e98adb60/36906 <br>\n",
    "[5] Abbott, M.L (2016) Using Statistics in the Social and Health Sciences with SPSS and Excel. Wiley Publishers. <br>\n",
    "[6] https://en.wikipedia.org/wiki/Binomial_distribution <br>\n",
    "[7] Kay, J., Coltheart, M., & Lesser, R. (1992). Psycholinguistic Assessments of Language Processing in\n",
    "Aphasia,(PALPA): Auditory Processing. Lawrence Erlbaum Associates.<br>\n",
    "[8] https://stackoverflow.com/questions/32899463/how-can-i-overlay-two-graphs-in-seaborn <br>\n",
    "[9] https://www.pcg-random.org/ <br>\n",
    "[10] https://www.sharpsightlabs.com/blog/numpy-random-seed/#:~:text=NumPy%20random%20seed%20is%20simply,random%20numbers%20for%20random%20processes."
   ]
  },
  {
   "cell_type": "markdown",
   "metadata": {},
   "source": [
    "## Purpose of numpy.random package and use of simple random data \n",
    "The numpy.random package allows the user to produce pseudorandom numbers.  In order to do this the package uses a BitGenerator which creates sequences and a Generator that uses the sequences created by the BitGenerator to sample from different statistical distributions [1].   "
   ]
  },
  {
   "cell_type": "code",
   "execution_count": 3,
   "metadata": {},
   "outputs": [],
   "source": [
    "import numpy as np\n",
    "rng = np.random.default_rng()\n",
    "# using default_rng() will get a new instance of a Generator with the default BitGenerator (PCG64). \n",
    "# it is then possible to call this Generator method to get samples from different distributions [1]. "
   ]
  },
  {
   "cell_type": "code",
   "execution_count": 2,
   "metadata": {},
   "outputs": [
    {
     "data": {
      "text/plain": [
       "array([2, 2, 1, 0, 2, 0, 1, 2, 2, 2, 2, 0, 0, 2, 2], dtype=int64)"
      ]
     },
     "execution_count": 2,
     "metadata": {},
     "output_type": "execute_result"
    }
   ],
   "source": [
    "rng.integers(3, size=15)\n",
    "# this will return 15 random integers from 0 up to but not inclusive of 3 "
   ]
  },
  {
   "cell_type": "markdown",
   "metadata": {},
   "source": [
    "dtype is a data type object and it describes how the bytes in the fixed-size block of memory corresponding to an array item should be interpreted. The default value is np.int64. as seen above"
   ]
  },
  {
   "cell_type": "code",
   "execution_count": 3,
   "metadata": {},
   "outputs": [
    {
     "data": {
      "text/plain": [
       "array([[3, 1, 3, 3],\n",
       "       [0, 2, 3, 1]], dtype=int64)"
      ]
     },
     "execution_count": 3,
     "metadata": {},
     "output_type": "execute_result"
    }
   ],
   "source": [
    "rng.integers(5, size=(2, 4))\n",
    "# generate a 2 x 4 array "
   ]
  },
  {
   "cell_type": "code",
   "execution_count": 4,
   "metadata": {},
   "outputs": [
    {
     "data": {
      "text/plain": [
       "array([2, 9, 1], dtype=int64)"
      ]
     },
     "execution_count": 4,
     "metadata": {},
     "output_type": "execute_result"
    }
   ],
   "source": [
    "rng.integers(0, [3, 20, 10])\n",
    "# generate numbers with a lower bound of 0 and an three different upper bounds"
   ]
  },
  {
   "cell_type": "code",
   "execution_count": 5,
   "metadata": {},
   "outputs": [
    {
     "data": {
      "text/plain": [
       "array([[ 2, 11,  3,  8],\n",
       "       [ 1,  4,  5, 17]], dtype=int64)"
      ]
     },
     "execution_count": 5,
     "metadata": {},
     "output_type": "execute_result"
    }
   ],
   "source": [
    "rng.integers(1, [5, 15, 10, 20], size=(2, 4))\n",
    "# generate a 2 x 4 array with lower bound of 1 and four different upper bounds"
   ]
  },
  {
   "cell_type": "code",
   "execution_count": 6,
   "metadata": {},
   "outputs": [
    {
     "data": {
      "text/plain": [
       "array([50, 29,  7, ..., 69, 97, 87], dtype=int64)"
      ]
     },
     "execution_count": 6,
     "metadata": {},
     "output_type": "execute_result"
    }
   ],
   "source": [
    "x = rng.integers(100, size=100000)\n",
    "# x is an array of 100000 numbers between 0 and up to but not including 100\n",
    "x"
   ]
  },
  {
   "cell_type": "code",
   "execution_count": 15,
   "metadata": {},
   "outputs": [],
   "source": [
    "import matplotlib.pyplot as plt\n",
    "# library to create visualisations in Python including histograms"
   ]
  },
  {
   "cell_type": "code",
   "execution_count": 8,
   "metadata": {},
   "outputs": [
    {
     "data": {
      "text/plain": [
       "(array([ 9999.,  9985.,  9984., 10113.,  9992., 10011.,  9999.,  9956.,\n",
       "         9909., 10052.]),\n",
       " array([ 0. ,  9.9, 19.8, 29.7, 39.6, 49.5, 59.4, 69.3, 79.2, 89.1, 99. ]),\n",
       " <BarContainer object of 10 artists>)"
      ]
     },
     "execution_count": 8,
     "metadata": {},
     "output_type": "execute_result"
    },
    {
     "data": {
      "image/png": "[encoded data removed]",
      "text/plain": [
       "<Figure size 432x288 with 1 Axes>"
      ]
     },
     "metadata": {
      "needs_background": "light"
     },
     "output_type": "display_data"
    }
   ],
   "source": [
    "plt.hist(x)\n",
    "# display a histogram of x"
   ]
  },
  {
   "cell_type": "markdown",
   "metadata": {},
   "source": [
    "The distribution above represents a uniform distribution.  If we changed the size to 10 million in Line 6 above we would definitely see a clear retangular distribution with a straight line on top of the retangle and that indicates a distribution that has constant probability [2].\n",
    "***"
   ]
  },
  {
   "cell_type": "markdown",
   "metadata": {},
   "source": [
    "Above is an example of simple random data function that returns random integers from low (inclusive) to high (exclusive) [1] with a uniform distribution. It is also possible to use simple random data functions to generate a random sample from a given 1-D array. "
   ]
  },
  {
   "cell_type": "code",
   "execution_count": 9,
   "metadata": {},
   "outputs": [],
   "source": [
    "y = rng.choice(5, 10000, p=[0.1, 0, 0.3, 0.6, 0])\n",
    "# Generate a non-uniform random sample from np.arange(5) of size 5\n",
    "# p is the probabilities associated with each entry in the array. \n",
    "# If p is not given the sample assumes a uniform distribution over all entries in the array."
   ]
  },
  {
   "cell_type": "code",
   "execution_count": 10,
   "metadata": {},
   "outputs": [
    {
     "data": {
      "text/plain": [
       "(array([1015.,    0.,    0.,    0.,    0.,    0., 2967.,    0.,    0.,\n",
       "        6018.]),\n",
       " array([0. , 0.3, 0.6, 0.9, 1.2, 1.5, 1.8, 2.1, 2.4, 2.7, 3. ]),\n",
       " <BarContainer object of 10 artists>)"
      ]
     },
     "execution_count": 10,
     "metadata": {},
     "output_type": "execute_result"
    },
    {
     "data": {
      "image/png": "[encoded data removed]",
      "text/plain": [
       "<Figure size 432x288 with 1 Axes>"
      ]
     },
     "metadata": {
      "needs_background": "light"
     },
     "output_type": "display_data"
    }
   ],
   "source": [
    "plt.hist(y)"
   ]
  },
  {
   "cell_type": "markdown",
   "metadata": {},
   "source": [
    "Above we can see that this does not fit the uniform distribution as in the first histogram. <br>\n",
    "***\n",
    "We will look at other distributions further down the Jupyter Notebook. First we need to consider another set of functions available in numpy.random.Generator which are *permutations*. <br>\n",
    "## Permutations\n",
    "A permutation refers to an arrangement of elements. e.g. [3, 2, 1] is a permutation of [1, 2, 3] and vice-versa and the numpy.random module provides two methods for carrying out permutations: shuffle() and permutation() [3]. Using shuffle it is possible to modify a sequence in-place by shuffling its contents so that the order of sub-arrays is changed but their contents remains the same [1]. In a similar manner, the use of the permutation function will randomly permute a sequence, or return a permuted range and leaves the original array unchanged [3]."
   ]
  },
  {
   "cell_type": "code",
   "execution_count": 4,
   "metadata": {},
   "outputs": [
    {
     "data": {
      "text/plain": [
       "array([6, 9, 3, 5, 8, 1, 0, 4, 2, 7])"
      ]
     },
     "execution_count": 4,
     "metadata": {},
     "output_type": "execute_result"
    }
   ],
   "source": [
    "arr = np.arange(10)\n",
    "rng.shuffle(arr)\n",
    "# random \n",
    "arr"
   ]
  },
  {
   "cell_type": "code",
   "execution_count": 9,
   "metadata": {},
   "outputs": [
    {
     "data": {
      "text/plain": [
       "array([[0, 1, 2],\n",
       "       [3, 4, 5],\n",
       "       [6, 7, 8]])"
      ]
     },
     "execution_count": 9,
     "metadata": {},
     "output_type": "execute_result"
    }
   ],
   "source": [
    "arr = np.arange(9).reshape((3, 3))\n",
    "rng.shuffle(arr)\n",
    "# random 3 x 3 array\n",
    "arr"
   ]
  },
  {
   "cell_type": "code",
   "execution_count": 12,
   "metadata": {},
   "outputs": [
    {
     "data": {
      "text/plain": [
       "array([ 1, 15,  4,  9, 12])"
      ]
     },
     "execution_count": 12,
     "metadata": {},
     "output_type": "execute_result"
    }
   ],
   "source": [
    "rng.permutation([1, 4, 9, 12, 15])\n",
    "# makes a copy and randomly shuffles elements in the array"
   ]
  },
  {
   "cell_type": "markdown",
   "metadata": {},
   "source": [
    "## Distribution Functions\n",
    "Below is an overview of five distribution functions: \n",
    "Standard Normal, Binomial, Chi square, F and T distributions"
   ]
  },
  {
   "cell_type": "markdown",
   "metadata": {},
   "source": [
    "### Standard Normal Distribution\n",
    "Standard normal distribution is very common in social and health sciences research.  It can be referred to as a normal distribution curve because the histogram forms a curve when the top midpoints of the bars are joined together and there will be equal amounts of data to the left and the right of that midpoint [5]. A standard normal curve is also known as a z distribution with a mean = 0 and standard deviation = 1.0.  This is represented by the equation: <br>\n",
    "$$z = \\frac{x-u}{SD}$$ \n",
    "where z is the distribution, x is the raw score, u is the mean and SD is the standard deviation."
   ]
  },
  {
   "cell_type": "code",
   "execution_count": 16,
   "metadata": {},
   "outputs": [
    {
     "data": {
      "text/plain": [
       "(array([1.000e+00, 2.000e+00, 3.000e+00, 7.000e+00, 4.000e+00, 3.000e+00,\n",
       "        3.000e+00, 1.100e+01, 1.100e+01, 1.400e+01, 1.600e+01, 2.100e+01,\n",
       "        3.700e+01, 5.200e+01, 6.100e+01, 7.400e+01, 1.060e+02, 1.170e+02,\n",
       "        1.810e+02, 2.090e+02, 2.540e+02, 3.200e+02, 3.930e+02, 4.830e+02,\n",
       "        4.970e+02, 6.260e+02, 7.310e+02, 8.760e+02, 9.590e+02, 1.096e+03,\n",
       "        1.321e+03, 1.413e+03, 1.705e+03, 1.851e+03, 1.981e+03, 2.259e+03,\n",
       "        2.442e+03, 2.519e+03, 2.756e+03, 2.932e+03, 3.068e+03, 3.040e+03,\n",
       "        3.276e+03, 3.469e+03, 3.525e+03, 3.518e+03, 3.342e+03, 3.535e+03,\n",
       "        3.374e+03, 3.349e+03, 3.325e+03, 3.110e+03, 3.077e+03, 3.033e+03,\n",
       "        2.819e+03, 2.590e+03, 2.343e+03, 2.215e+03, 2.032e+03, 1.841e+03,\n",
       "        1.744e+03, 1.506e+03, 1.246e+03, 1.178e+03, 9.710e+02, 8.760e+02,\n",
       "        6.960e+02, 6.530e+02, 5.540e+02, 4.260e+02, 3.810e+02, 3.160e+02,\n",
       "        2.320e+02, 2.030e+02, 1.810e+02, 1.260e+02, 9.600e+01, 8.300e+01,\n",
       "        6.300e+01, 7.400e+01, 3.900e+01, 3.400e+01, 3.000e+01, 1.600e+01,\n",
       "        1.800e+01, 3.000e+00, 5.000e+00, 5.000e+00, 4.000e+00, 4.000e+00,\n",
       "        1.000e+00, 1.000e+00, 3.000e+00, 1.000e+00, 0.000e+00, 1.000e+00,\n",
       "        1.000e+00, 0.000e+00, 0.000e+00, 1.000e+00]),\n",
       " array([-4.10426279, -4.01611475, -3.92796672, -3.83981869, -3.75167065,\n",
       "        -3.66352262, -3.57537458, -3.48722655, -3.39907852, -3.31093048,\n",
       "        -3.22278245, -3.13463441, -3.04648638, -2.95833835, -2.87019031,\n",
       "        -2.78204228, -2.69389424, -2.60574621, -2.51759818, -2.42945014,\n",
       "        -2.34130211, -2.25315407, -2.16500604, -2.076858  , -1.98870997,\n",
       "        -1.90056194, -1.8124139 , -1.72426587, -1.63611783, -1.5479698 ,\n",
       "        -1.45982177, -1.37167373, -1.2835257 , -1.19537766, -1.10722963,\n",
       "        -1.0190816 , -0.93093356, -0.84278553, -0.75463749, -0.66648946,\n",
       "        -0.57834143, -0.49019339, -0.40204536, -0.31389732, -0.22574929,\n",
       "        -0.13760125, -0.04945322,  0.03869481,  0.12684285,  0.21499088,\n",
       "         0.30313892,  0.39128695,  0.47943498,  0.56758302,  0.65573105,\n",
       "         0.74387909,  0.83202712,  0.92017515,  1.00832319,  1.09647122,\n",
       "         1.18461926,  1.27276729,  1.36091532,  1.44906336,  1.53721139,\n",
       "         1.62535943,  1.71350746,  1.8016555 ,  1.88980353,  1.97795156,\n",
       "         2.0660996 ,  2.15424763,  2.24239567,  2.3305437 ,  2.41869173,\n",
       "         2.50683977,  2.5949878 ,  2.68313584,  2.77128387,  2.8594319 ,\n",
       "         2.94757994,  3.03572797,  3.12387601,  3.21202404,  3.30017207,\n",
       "         3.38832011,  3.47646814,  3.56461618,  3.65276421,  3.74091225,\n",
       "         3.82906028,  3.91720831,  4.00535635,  4.09350438,  4.18165242,\n",
       "         4.26980045,  4.35794848,  4.44609652,  4.53424455,  4.62239259,\n",
       "         4.71054062]),\n",
       " <BarContainer object of 100 artists>)"
      ]
     },
     "execution_count": 16,
     "metadata": {},
     "output_type": "execute_result"
    },
    {
     "data": {
      "image/png": "[encoded data removed]",
      "text/plain": [
       "<Figure size 432x288 with 1 Axes>"
      ]
     },
     "metadata": {
      "needs_background": "light"
     },
     "output_type": "display_data"
    }
   ],
   "source": [
    "import seaborn as sns\n",
    "# library for visualising data in python\n",
    "z = rng.standard_normal(100000)\n",
    "plt.hist(z, bins=100)"
   ]
  },
  {
   "cell_type": "code",
   "execution_count": 15,
   "metadata": {},
   "outputs": [
    {
     "data": {
      "text/plain": [
       "<seaborn.axisgrid.FacetGrid at 0x2a4bc245af0>"
      ]
     },
     "execution_count": 15,
     "metadata": {},
     "output_type": "execute_result"
    },
    {
     "data": {
      "image/png": "[encoded data removed]",
      "text/plain": [
       "<Figure size 360x360 with 1 Axes>"
      ]
     },
     "metadata": {},
     "output_type": "display_data"
    }
   ],
   "source": [
    "sns.set_theme()\n",
    "sns.displot(z, kind=\"kde\")\n",
    "# this will show the Standard Normal distribution curve without the histogram "
   ]
  },
  {
   "cell_type": "markdown",
   "metadata": {},
   "source": [
    "### Binomial distribution\n",
    "The binomial distribution with parameters n and p is the discrete probability distribution of the number of successes in a sequence of n independent experiments, each asking a yes–no question i.e. *will the coin land on heads?*, and each with its own Boolean-valued outcome: success (with probability p) or failure (with probability q = 1 − p) [6]. The distribution will depend on the number of trials in the experiment and the probably of sucess or failure.  "
   ]
  },
  {
   "cell_type": "code",
   "execution_count": 29,
   "metadata": {},
   "outputs": [],
   "source": [
    "rng = np.random.default_rng()\n",
    "n, p = 10, .5\n",
    "# number of trials, probability of each trial\n",
    "b = rng.binomial(n, p, 2000)\n",
    "# result of flipping a coin 10 times, tested 2000 times"
   ]
  },
  {
   "cell_type": "code",
   "execution_count": 30,
   "metadata": {},
   "outputs": [
    {
     "data": {
      "text/plain": [
       "(array([  2.,  25.,  84., 233., 403., 512., 385., 240.,  98.,  18.]),\n",
       " array([ 0.,  1.,  2.,  3.,  4.,  5.,  6.,  7.,  8.,  9., 10.]),\n",
       " <BarContainer object of 10 artists>)"
      ]
     },
     "execution_count": 30,
     "metadata": {},
     "output_type": "execute_result"
    },
    {
     "data": {
      "image/png": "[encoded data removed]",
      "text/plain": [
       "<Figure size 432x288 with 1 Axes>"
      ]
     },
     "metadata": {
      "needs_background": "light"
     },
     "output_type": "display_data"
    }
   ],
   "source": [
    "plt.hist(b)"
   ]
  },
  {
   "cell_type": "markdown",
   "metadata": {},
   "source": [
    "The distribution will depend on the number of trials in the experiment and the probably of sucess or failure."
   ]
  },
  {
   "cell_type": "code",
   "execution_count": 37,
   "metadata": {},
   "outputs": [
    {
     "data": {
      "text/plain": [
       "(array([[  2.,  25.,  84., 233., 403., 512., 385., 240.,  98.,  18.],\n",
       "        [188., 542., 623., 373., 206.,  57.,  11.,   0.,   0.,   0.],\n",
       "        [  0.,   0.,   3.,  21.,  83., 203., 375., 533., 478., 304.]]),\n",
       " array([ 0.,  1.,  2.,  3.,  4.,  5.,  6.,  7.,  8.,  9., 10.]),\n",
       " <a list of 3 BarContainer objects>)"
      ]
     },
     "execution_count": 37,
     "metadata": {},
     "output_type": "execute_result"
    },
    {
     "data": {
      "image/png": "[encoded data removed]",
      "text/plain": [
       "<Figure size 432x288 with 1 Axes>"
      ]
     },
     "metadata": {
      "needs_background": "light"
     },
     "output_type": "display_data"
    }
   ],
   "source": [
    "p2 = .2\n",
    "# a 20% chance of success each time\n",
    "p3 = .7\n",
    "# a 70% chance of success each time\n",
    "c = rng.binomial(n, p2, 2000)\n",
    "d = rng.binomial(n, p3, 2000)\n",
    "diff_plots = [b, c, d]\n",
    "diff_labels = [\"50% chance of success\", \"20% chance of success\", \"70% chance of success\"]\n",
    "plt.legend(diff_labels)\n",
    "plt.title(\"Different probabilities of success\")\n",
    "plt.hist(diff_plots, label=diff_labels)\n",
    "# I haven't worked out yet why I can't add a legend here \n",
    "# so blue = 0.5 probability of success and orange = 0.2 probability and green = 0.7 probability "
   ]
  },
  {
   "cell_type": "markdown",
   "metadata": {},
   "source": [
    "### Chi Square Distribution\n",
    "The chi square distribution is actually several distributions that vary with the size of the sample, and the shape of the distribution is different depending on the degrees of freedom (df) [6]. Degrees of freedom represent the restrictions on the values when we are estimating a population parameter. So technically df identify how many values are free to vary when making the parameter estimate. These differences related to df will be demonstrated below. Chi square is a statistical procedure that examines frequency counts."
   ]
  },
  {
   "cell_type": "code",
   "execution_count": 19,
   "metadata": {},
   "outputs": [],
   "source": [
    "chi = np.random.default_rng().chisquare(2,400)"
   ]
  },
  {
   "cell_type": "code",
   "execution_count": 20,
   "metadata": {
    "scrolled": true
   },
   "outputs": [
    {
     "data": {
      "text/plain": [
       "(array([238.,  98.,  34.,  20.,   8.,   0.,   0.,   1.,   0.,   1.]),\n",
       " array([1.22719351e-03, 1.79661141e+00, 3.59199562e+00, 5.38737983e+00,\n",
       "        7.18276404e+00, 8.97814825e+00, 1.07735325e+01, 1.25689167e+01,\n",
       "        1.43643009e+01, 1.61596851e+01, 1.79550693e+01]),\n",
       " <BarContainer object of 10 artists>)"
      ]
     },
     "execution_count": 20,
     "metadata": {},
     "output_type": "execute_result"
    },
    {
     "data": {
      "image/png": "[encoded data removed]",
      "text/plain": [
       "<Figure size 432x288 with 1 Axes>"
      ]
     },
     "metadata": {},
     "output_type": "display_data"
    }
   ],
   "source": [
    "plt.hist(chi)"
   ]
  },
  {
   "cell_type": "markdown",
   "metadata": {},
   "source": [
    "If we change the df we can see the different distribution curves"
   ]
  },
  {
   "cell_type": "code",
   "execution_count": 21,
   "metadata": {},
   "outputs": [
    {
     "data": {
      "text/plain": [
       "<seaborn.axisgrid.FacetGrid at 0x2a4c05978e0>"
      ]
     },
     "execution_count": 21,
     "metadata": {},
     "output_type": "execute_result"
    },
    {
     "data": {
      "image/png": "[encoded data removed]",
      "text/plain": [
       "<Figure size 405.725x360 with 1 Axes>"
      ]
     },
     "metadata": {},
     "output_type": "display_data"
    }
   ],
   "source": [
    "chi4 = np.random.default_rng().chisquare(4,400)\n",
    "chi10 = np.random.default_rng().chisquare(10,400)\n",
    "all_plots = [chi, chi4, chi10]\n",
    "sns.displot(all_plots, kind=\"kde\").set(title=\"Different degrees of freedom - impact on distribution curve\")\n",
    "# I haven't worked out yet how to change the labels in Seaborn where data is not imported from a file\n",
    "# so 0 is df=2, 1 is df=4 and 2 is df=10"
   ]
  },
  {
   "cell_type": "markdown",
   "metadata": {},
   "source": [
    "### F distribution\n",
    "F distribution is a sampling distribution of variances rather than means (the latter is the distribution seen in a normal standard distribution). Variance is the average squared distance of the scores in a distribution from the mean and is the squared standard deviation. F distribution appears to be a normal distribution that has skewed to the right, this is because variances are never negative values [5]. "
   ]
  },
  {
   "cell_type": "code",
   "execution_count": 22,
   "metadata": {},
   "outputs": [],
   "source": [
    "dfnum = 1. # between group degrees of freedom\n",
    "dfden = 48. # within group degrees of freedom\n",
    "fdis = np.random.default_rng().f(dfnum, dfden, 1000)"
   ]
  },
  {
   "cell_type": "code",
   "execution_count": 23,
   "metadata": {},
   "outputs": [
    {
     "data": {
      "text/plain": [
       "6.263625449851538"
      ]
     },
     "execution_count": 23,
     "metadata": {},
     "output_type": "execute_result"
    }
   ],
   "source": [
    "np.sort(fdis)[-10]\n",
    "# produces the lower bound for the the top 10%"
   ]
  },
  {
   "cell_type": "code",
   "execution_count": 24,
   "metadata": {},
   "outputs": [
    {
     "data": {
      "text/plain": [
       "(array([838., 120.,  22.,  14.,   2.,   0.,   3.,   0.,   0.,   1.]),\n",
       " array([1.26347169e-06, 1.79920300e+00, 3.59840473e+00, 5.39760646e+00,\n",
       "        7.19680819e+00, 8.99600993e+00, 1.07952117e+01, 1.25944134e+01,\n",
       "        1.43936151e+01, 1.61928169e+01, 1.79920186e+01]),\n",
       " <BarContainer object of 10 artists>)"
      ]
     },
     "execution_count": 24,
     "metadata": {},
     "output_type": "execute_result"
    },
    {
     "data": {
      "image/png": "[encoded data removed]",
      "text/plain": [
       "<Figure size 432x288 with 1 Axes>"
      ]
     },
     "metadata": {},
     "output_type": "display_data"
    }
   ],
   "source": [
    "plt.hist(fdis)"
   ]
  },
  {
   "cell_type": "markdown",
   "metadata": {},
   "source": [
    "\n",
    "### T Distribution\n",
    "The T distribution is the same as the Z distribution in terms of being a standard normal distribution. The T distribution is typically based on small sample sizes and varies by sample size. So the larger the sample size the more the T distribution looks like a Z distribution with a large hump in the middle and smaller tails on both sides (similiar to the standard normal distibution histogram shown above) [5].  With a smaller sample, the T distribution has fewer comparision values and it appears flatter.<br>\n",
    "The data below is taken from a study I was involved with and I've decided to use it instead of the data in the numPy documentation to help my learning. However, it is important to note that the t test is based on an assumption that the data comes from a Standard Normal distribution [1] this assumption has not been tested here. <br>\n",
    "There were 9 people with acquired communication disorders and this is a test of spoken word comprehension called PALPA 47.  There are 40 items in the test and on a set of control subjects the mean score was 39.29 and the std dev is 1.07. So is the sample mean within 95% of the control mean?"
   ]
  },
  {
   "cell_type": "code",
   "execution_count": 38,
   "metadata": {},
   "outputs": [
    {
     "data": {
      "text/plain": [
       "34.22222222222222"
      ]
     },
     "execution_count": 38,
     "metadata": {},
     "output_type": "execute_result"
    }
   ],
   "source": [
    "intake = np.array([36, 28, 40, 31, 39, 27, 40, 33, 34])  \n",
    "s = np.random.default_rng().standard_t(8, size = 10000)\n",
    "# there are 9 participants so that means 8 degrees of freedom\n",
    "np.mean(intake)"
   ]
  },
  {
   "cell_type": "code",
   "execution_count": 39,
   "metadata": {},
   "outputs": [
    {
     "data": {
      "text/plain": [
       "4.944132324730441"
      ]
     },
     "execution_count": 39,
     "metadata": {},
     "output_type": "execute_result"
    }
   ],
   "source": [
    "intake.std(ddof=1)"
   ]
  },
  {
   "cell_type": "code",
   "execution_count": 40,
   "metadata": {},
   "outputs": [
    {
     "data": {
      "image/png": "[encoded data removed]",
      "text/plain": [
       "<Figure size 432x288 with 1 Axes>"
      ]
     },
     "metadata": {
      "needs_background": "light"
     },
     "output_type": "display_data"
    }
   ],
   "source": [
    "t = (np.mean(intake)-39.29)/(intake.std(ddof=1)/np.sqrt(len(intake)))\n",
    "# comparing the means of the two groups\n",
    "h = plt.hist(s, bins=10, density=True)"
   ]
  },
  {
   "cell_type": "code",
   "execution_count": 41,
   "metadata": {},
   "outputs": [
    {
     "data": {
      "text/plain": [
       "<seaborn.axisgrid.FacetGrid at 0x20a8a6469a0>"
      ]
     },
     "execution_count": 41,
     "metadata": {},
     "output_type": "execute_result"
    },
    {
     "data": {
      "image/png": "[encoded data removed]",
      "text/plain": [
       "<Figure size 402.375x360 with 1 Axes>"
      ]
     },
     "metadata": {
      "needs_background": "light"
     },
     "output_type": "display_data"
    }
   ],
   "source": [
    "all_plots2 = [z, s]\n",
    "sns.displot(all_plots2, kind=\"kde\").set(title=\"Standard Normal and T Distribution Curves\")\n",
    "# this will show the Standard Normal distribution curve and the T distribution curve\n",
    "# I haven't worked out yet how to change the labels in Seaborn where data is not imported from file\n",
    "# so 0 = Standard Normal Distribution and 1 = T distribution"
   ]
  },
  {
   "cell_type": "code",
   "execution_count": 44,
   "metadata": {},
   "outputs": [
    {
     "data": {
      "text/plain": [
       "0.0085"
      ]
     },
     "execution_count": 44,
     "metadata": {},
     "output_type": "execute_result"
    }
   ],
   "source": [
    "np.sum(s<t) / float(len(s))\n",
    "# this will provide a p value or probability with 95% confidence that the group means are the same "
   ]
  },
  {
   "cell_type": "markdown",
   "metadata": {},
   "source": [
    "## Use of seeds in the generation of pseudorandom numbers in Python\n",
    "In the numpy.random package in python, a seed is simply a function that sets the random seed of the NumPy pseudorandom number generator. It provides an essential input that enables NumPy to generate pseudorandom numbers for random processes [10].\n",
    "The Generator provides access to a wide range of distributions. It relies on an additional BitGenerator to manage state and generate the random bits, which are then transformed into random values from useful distributions. The default BitGenerator used by Generator in numPy is PCG64 [1].  The PCG family is a family of simple, fast, space-efficient, statistically good algorithms for random number generation. Unlike many general-purpose RNGs, they are also hard to predict [9]. <br>\n",
    "\n",
    "The generation of pseudorandom numbers is important in computing. Computers are completely deterministic, not random. Therefore, pseudorandom numbers are computer generated numbers that appear random, but are actually predetermined. If you give a computer a certain input, it will precisely follow instructions to produce an output. Then, if you later give the computer the same input, it will produce the same output. This will pose a problem if you want to produce random numbers, especially to ensure security or encrypt information.  Pseudorandom number generators are deterministic, they are also repeatable. So, if you run the algorithm with the same input, it will produce the same output.  This means you can use pseudorandom number generators to create and then re-create the exact same set of pseudo-random numbers but in order to do this you must know the seed [10]. <br> \n",
    "\n",
    "So below I will run the random generator function in two instances; one where the seed is not provided, and one where the seed is provided."
   ]
  },
  {
   "cell_type": "code",
   "execution_count": 45,
   "metadata": {},
   "outputs": [
    {
     "data": {
      "text/plain": [
       "array([5, 5, 5, 4, 7], dtype=int64)"
      ]
     },
     "execution_count": 45,
     "metadata": {},
     "output_type": "execute_result"
    }
   ],
   "source": [
    "rng = np.random.default_rng()\n",
    "rng.integers(10, size=5)\n",
    "# here the seed is not provided so an unpredictable entropy is pulled from the OS [1]. \n",
    "# here the array is made up of pseudorandom numbers that cannot be predicted."
   ]
  },
  {
   "cell_type": "code",
   "execution_count": 47,
   "metadata": {},
   "outputs": [
    {
     "data": {
      "text/plain": [
       "array([6, 8, 8, 1, 0], dtype=int64)"
      ]
     },
     "execution_count": 47,
     "metadata": {},
     "output_type": "execute_result"
    }
   ],
   "source": [
    "rng = np.random.default_rng()\n",
    "rng.integers(10, size=5)\n",
    "# the function is repeated as above but again the seed is generated by PCG64 in numPy.\n",
    "# the numbers cannot be predicted and will be differ from the array above."
   ]
  },
  {
   "cell_type": "code",
   "execution_count": 52,
   "metadata": {},
   "outputs": [
    {
     "data": {
      "text/plain": [
       "array([4, 5, 7, 9, 0], dtype=int64)"
      ]
     },
     "execution_count": 52,
     "metadata": {},
     "output_type": "execute_result"
    }
   ],
   "source": [
    "new_rng = np.random.default_rng(1)\n",
    "# the seed is provided\n",
    "new_rng.integers(10, size=5)"
   ]
  },
  {
   "cell_type": "code",
   "execution_count": 53,
   "metadata": {},
   "outputs": [
    {
     "data": {
      "text/plain": [
       "array([4, 5, 7, 9, 0], dtype=int64)"
      ]
     },
     "execution_count": 53,
     "metadata": {},
     "output_type": "execute_result"
    }
   ],
   "source": [
    "new_rng = np.random.default_rng(1)\n",
    "new_rng.integers(10, size=5)\n",
    "# the array is as predicted and has remained the same because the same seed was provided"
   ]
  },
  {
   "cell_type": "markdown",
   "metadata": {},
   "source": [
    "### End"
   ]
  }
 ],
 "metadata": {
  "kernelspec": {
   "display_name": "Python 3",
   "language": "python",
   "name": "python3"
  },
  "language_info": {
   "codemirror_mode": {
    "name": "ipython",
    "version": 3
   },
   "file_extension": ".py",
   "mimetype": "text/x-python",
   "name": "python",
   "nbconvert_exporter": "python",
   "pygments_lexer": "ipython3",
   "version": "3.8.5"
  }
 },
 "nbformat": 4,
 "nbformat_minor": 2
}
